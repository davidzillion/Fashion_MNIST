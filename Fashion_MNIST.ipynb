{
  "nbformat": 4,
  "nbformat_minor": 0,
  "metadata": {
    "kernelspec": {
      "display_name": "tf",
      "language": "python",
      "name": "tf"
    },
    "language_info": {
      "codemirror_mode": {
        "name": "ipython",
        "version": 3
      },
      "file_extension": ".py",
      "mimetype": "text/x-python",
      "name": "python",
      "nbconvert_exporter": "python",
      "pygments_lexer": "ipython3",
      "version": "3.7.11"
    },
    "colab": {
      "name": "Fashion-MNIST.ipynb",
      "provenance": [],
      "collapsed_sections": [],
      "include_colab_link": true
    }
  },
  "cells": [
    {
      "cell_type": "markdown",
      "metadata": {
        "id": "view-in-github",
        "colab_type": "text"
      },
      "source": [
        "<a href=\"https://colab.research.google.com/github/davidzillion/Fashion_MNIST/blob/main/Fashion_MNIST.ipynb\" target=\"_parent\"><img src=\"https://colab.research.google.com/assets/colab-badge.svg\" alt=\"Open In Colab\"/></a>"
      ]
    },
    {
      "cell_type": "markdown",
      "metadata": {
        "id": "yyfntcN3y0vn"
      },
      "source": [
        "# The Fashion MNIST dataset\n",
        "\n",
        "Tutorial source: https://www.tensorflow.org/tutorials/keras/classification\n",
        "\n",
        "Convolutional Neural Networks: https://www.youtube.com/playlist?list=PLkDaE6sCZn6Gl29AoE31iwdVwSG-KnDzF"
      ]
    },
    {
      "cell_type": "code",
      "metadata": {
        "id": "7BEAR5Dgy0vp"
      },
      "source": [
        "# TensorFlow and tf.keras\n",
        "import tensorflow as tf\n",
        "\n",
        "# Helper libraries\n",
        "import numpy as np\n",
        "import matplotlib.pyplot as plt"
      ],
      "execution_count": null,
      "outputs": []
    },
    {
      "cell_type": "markdown",
      "metadata": {
        "id": "Feu17ig5y0vs"
      },
      "source": [
        "The Fashion MNIST dataset is a slightly more challenging problem than regular MNIST. Both datasets are relatively small and are used to verify that an algorithm works as expected. They're good starting points to test and debug code.\n",
        "\n",
        "Here, 60,000 images are used to train the network and 10,000 images to evaluate how accurately the network learned to classify images. You can access the Fashion MNIST directly from TensorFlow. Import and load the Fashion MNIST data directly from TensorFlow:"
      ]
    },
    {
      "cell_type": "code",
      "metadata": {
        "id": "97NwrtsWy0vv"
      },
      "source": [
        "fashion_mnist = tf.keras.datasets.fashion_mnist\n",
        "\n",
        "(train_images, train_labels), (test_images, test_labels) = fashion_mnist.load_data()"
      ],
      "execution_count": null,
      "outputs": []
    },
    {
      "cell_type": "markdown",
      "metadata": {
        "id": "RfNJ6gAey0vy"
      },
      "source": [
        "The images are 28x28 NumPy arrays, with pixel values ranging from 0 to 255. The labels are an array of integers, ranging from 0 to 9. These correspond to the class of clothing the image represents:"
      ]
    },
    {
      "cell_type": "markdown",
      "metadata": {
        "jupyter": {
          "source_hidden": true
        },
        "id": "g0SHR4jty0vy"
      },
      "source": [
        "**Label:**\t**Class**\n",
        "\n",
        "0:    T-shirt/top\n",
        "\n",
        "1:    Trouser\n",
        "\n",
        "2:    Pullover\n",
        "\n",
        "3:    Dress\n",
        "\n",
        "4:    Coat\n",
        "\n",
        "5:    Sandal\n",
        "\n",
        "6:    Shirt\n",
        "\n",
        "7:    Sneaker\n",
        "\n",
        "8:    Bag\n",
        "\n",
        "9:    Ankle boot"
      ]
    },
    {
      "cell_type": "markdown",
      "metadata": {
        "id": "cPInh03Ty0vy"
      },
      "source": [
        "Each image is mapped to a single label. Since the class names are not included with the dataset, store them here to use later when plotting the images:"
      ]
    },
    {
      "cell_type": "code",
      "metadata": {
        "id": "o94j-DXFy0vz"
      },
      "source": [
        "class_names = ['T-shirt/top', 'Trouser', 'Pullover', 'Dress', 'Coat',\n",
        "               'Sandal', 'Shirt', 'Sneaker', 'Bag', 'Ankle boot']"
      ],
      "execution_count": null,
      "outputs": []
    },
    {
      "cell_type": "markdown",
      "metadata": {
        "id": "o8X-VKVZy0vz"
      },
      "source": [
        "## Exploration"
      ]
    },
    {
      "cell_type": "markdown",
      "metadata": {
        "id": "620J8keBy0v0"
      },
      "source": [
        "Let's explore the format of the dataset before training the model. The following shows there are 60,000 images in the training set, with each image represented as 28 x 28 pixels:"
      ]
    },
    {
      "cell_type": "code",
      "metadata": {
        "colab": {
          "base_uri": "https://localhost:8080/"
        },
        "id": "QxbipNf7y0v0",
        "outputId": "b63c0c8c-afff-4b4d-bd05-e6e1285d702e"
      },
      "source": [
        "train_images.shape"
      ],
      "execution_count": null,
      "outputs": [
        {
          "output_type": "execute_result",
          "data": {
            "text/plain": [
              "(60000, 28, 28)"
            ]
          },
          "metadata": {},
          "execution_count": 4
        }
      ]
    },
    {
      "cell_type": "markdown",
      "metadata": {
        "id": "ZtZoZzECy0v1"
      },
      "source": [
        "Likewise, there are 60,000 labels in the training set:"
      ]
    },
    {
      "cell_type": "code",
      "metadata": {
        "colab": {
          "base_uri": "https://localhost:8080/"
        },
        "id": "KEu5cQ1py0v1",
        "outputId": "62d7bec9-39e6-471b-e898-057dbcc24f78"
      },
      "source": [
        "len(train_labels)"
      ],
      "execution_count": null,
      "outputs": [
        {
          "output_type": "execute_result",
          "data": {
            "text/plain": [
              "60000"
            ]
          },
          "metadata": {},
          "execution_count": 5
        }
      ]
    },
    {
      "cell_type": "markdown",
      "metadata": {
        "id": "ZTh3qee8y0v1"
      },
      "source": [
        "Each label is an integer between 0 and 9:"
      ]
    },
    {
      "cell_type": "code",
      "metadata": {
        "colab": {
          "base_uri": "https://localhost:8080/"
        },
        "id": "nY-6JiGAy0v2",
        "outputId": "131aa2ff-a643-4445-de1c-96c890ba839b"
      },
      "source": [
        "train_labels\n"
      ],
      "execution_count": null,
      "outputs": [
        {
          "output_type": "execute_result",
          "data": {
            "text/plain": [
              "array([9, 0, 0, ..., 3, 0, 5], dtype=uint8)"
            ]
          },
          "metadata": {},
          "execution_count": 6
        }
      ]
    },
    {
      "cell_type": "markdown",
      "metadata": {
        "id": "ca1XjYLky0v2"
      },
      "source": [
        "The data must be preprocessed before training the network. If you inspect the first image in the training set, you will see that it is a boot represented in a scale of grays:"
      ]
    },
    {
      "cell_type": "code",
      "metadata": {
        "colab": {
          "base_uri": "https://localhost:8080/",
          "height": 265
        },
        "id": "LjU1zACBy0v2",
        "outputId": "dbdfe3d7-7952-40d2-daf0-0ada42bc75e2"
      },
      "source": [
        "item = train_images[0]\n",
        "plt.imshow(item, cmap=plt.cm.binary)\n",
        "plt.show()"
      ],
      "execution_count": null,
      "outputs": [
        {
          "output_type": "display_data",
          "data": {
            "image/png": "[encoded data removed]",
            "text/plain": [
              "<Figure size 432x288 with 1 Axes>"
            ]
          },
          "metadata": {
            "needs_background": "light"
          }
        }
      ]
    },
    {
      "cell_type": "markdown",
      "metadata": {
        "id": "t4c1B5KGy0v2"
      },
      "source": [
        "The pixel values fall in the range of 0 to 255:"
      ]
    },
    {
      "cell_type": "code",
      "metadata": {
        "colab": {
          "base_uri": "https://localhost:8080/",
          "height": 265
        },
        "id": "CgBo5kEjy0v2",
        "outputId": "3a59bf0f-35c7-4520-ee2a-1ce3d5a6e647"
      },
      "source": [
        "plt.figure()\n",
        "plt.imshow(train_images[0])\n",
        "plt.colorbar()\n",
        "plt.grid(False)\n",
        "plt.show()"
      ],
      "execution_count": null,
      "outputs": [
        {
          "output_type": "display_data",
          "data": {
            "image/png": "[encoded data removed]",
            "text/plain": [
              "<Figure size 432x288 with 2 Axes>"
            ]
          },
          "metadata": {
            "needs_background": "light"
          }
        }
      ]
    },
    {
      "cell_type": "markdown",
      "metadata": {
        "id": "rzkBFyFcy0v3"
      },
      "source": [
        "To verify that the data is in the correct format and that you're ready to build and train the network, let's display the first 25 images from the training set and display the class name below each image."
      ]
    },
    {
      "cell_type": "code",
      "metadata": {
        "colab": {
          "base_uri": "https://localhost:8080/",
          "height": 589
        },
        "id": "zAK4tcOMy0v3",
        "outputId": "255bd856-ba91-4fad-a78e-a880352e8c5b"
      },
      "source": [
        "plt.figure(figsize=(10,10))\n",
        "for i in range(25):\n",
        "    plt.subplot(5,5,i+1)\n",
        "    plt.xticks([])\n",
        "    plt.yticks([])\n",
        "    plt.grid(False)\n",
        "    plt.imshow(train_images[i], cmap=plt.cm.binary)\n",
        "    plt.xlabel(class_names[train_labels[i]])\n",
        "plt.show()"
      ],
      "execution_count": null,
      "outputs": [
        {
          "output_type": "display_data",
          "data": {
            "image/png": "[encoded data removed]",
            "text/plain": [
              "<Figure size 720x720 with 25 Axes>"
            ]
          },
          "metadata": {}
        }
      ]
    },
    {
      "cell_type": "markdown",
      "metadata": {
        "id": "WSBudCvgy0v3"
      },
      "source": [
        "## Your task:\n",
        "\n",
        "Build a simple Sequential neural network that classifies the images.\n",
        "\n",
        "Challenge: avhieve a test accuracy above 87%"
      ]
    },
    {
      "cell_type": "code",
      "metadata": {
        "colab": {
          "base_uri": "https://localhost:8080/"
        },
        "id": "Ji7z0kRxOqGE",
        "outputId": "5edb57f9-d754-421f-c392-510789db69c9"
      },
      "source": [
        "# The convolutional layer will need the input to have 4 dimensions\n",
        "# (info about how many channels the images have: in our case, just 1)\n",
        "train_images=train_images.reshape(60000, 28, 28, 1)\n",
        "train_images.shape\n",
        "\n",
        "test_images=test_images.reshape(10000, 28, 28, 1)\n",
        "test_images.shape"
      ],
      "execution_count": null,
      "outputs": [
        {
          "output_type": "execute_result",
          "data": {
            "text/plain": [
              "(10000, 28, 28, 1)"
            ]
          },
          "metadata": {},
          "execution_count": 10
        }
      ]
    },
    {
      "cell_type": "code",
      "metadata": {
        "id": "64-0agYky0v3"
      },
      "source": [
        "model = tf.keras.Sequential([\n",
        "    tf.keras.layers.Flatten(input_shape=(28, 28, 1)),\n",
        "    tf.keras.layers.Dense(128, activation='relu'),\n",
        "    tf.keras.layers.Dense(10)\n",
        "])"
      ],
      "execution_count": null,
      "outputs": []
    },
    {
      "cell_type": "code",
      "metadata": {
        "id": "A7AvvoFky0v4"
      },
      "source": [
        "model.compile(optimizer='adam',\n",
        "              loss=tf.keras.losses.SparseCategoricalCrossentropy(from_logits=True),\n",
        "              metrics=['accuracy'])"
      ],
      "execution_count": null,
      "outputs": []
    },
    {
      "cell_type": "code",
      "metadata": {
        "colab": {
          "base_uri": "https://localhost:8080/"
        },
        "id": "hZDxnpBsy0v4",
        "outputId": "6b33c60a-5908-4ca0-8f89-c1655a423b6e"
      },
      "source": [
        "model.fit(train_images, train_labels, epochs=10)"
      ],
      "execution_count": null,
      "outputs": [
        {
          "output_type": "stream",
          "name": "stdout",
          "text": [
            "Epoch 1/10\n",
            "1875/1875 [==============================] - 4s 2ms/step - loss: 3.2220 - accuracy: 0.6813\n",
            "Epoch 2/10\n",
            "1875/1875 [==============================] - 4s 2ms/step - loss: 0.6676 - accuracy: 0.7474\n",
            "Epoch 3/10\n",
            "1875/1875 [==============================] - 4s 2ms/step - loss: 0.5854 - accuracy: 0.7970\n",
            "Epoch 4/10\n",
            "1875/1875 [==============================] - 4s 2ms/step - loss: 0.5483 - accuracy: 0.8121\n",
            "Epoch 5/10\n",
            "1875/1875 [==============================] - 4s 2ms/step - loss: 0.5243 - accuracy: 0.8192\n",
            "Epoch 6/10\n",
            "1875/1875 [==============================] - 4s 2ms/step - loss: 0.5133 - accuracy: 0.8237\n",
            "Epoch 7/10\n",
            "1875/1875 [==============================] - 4s 2ms/step - loss: 0.5143 - accuracy: 0.8241\n",
            "Epoch 8/10\n",
            "1875/1875 [==============================] - 4s 2ms/step - loss: 0.5022 - accuracy: 0.8259\n",
            "Epoch 9/10\n",
            "1875/1875 [==============================] - 4s 2ms/step - loss: 0.4898 - accuracy: 0.8309\n",
            "Epoch 10/10\n",
            "1875/1875 [==============================] - 4s 2ms/step - loss: 0.4981 - accuracy: 0.8276\n"
          ]
        },
        {
          "output_type": "execute_result",
          "data": {
            "text/plain": [
              "<keras.callbacks.History at 0x7f88f886a650>"
            ]
          },
          "metadata": {},
          "execution_count": 13
        }
      ]
    },
    {
      "cell_type": "code",
      "metadata": {
        "colab": {
          "base_uri": "https://localhost:8080/"
        },
        "id": "yOEufC1Qy0v5",
        "outputId": "d78a3d0a-70b4-48b8-95bd-1895e677a579"
      },
      "source": [
        "test_results = {}\n",
        "\n",
        "test_loss, test_acc = model.evaluate(test_images,  test_labels, verbose=0)\n",
        "\n",
        "test_results[\"nn_model\"] = test_acc*100\n",
        "\n",
        "test_results"
      ],
      "execution_count": null,
      "outputs": [
        {
          "output_type": "execute_result",
          "data": {
            "text/plain": [
              "{'nn_model': 81.51999711990356}"
            ]
          },
          "metadata": {},
          "execution_count": 14
        }
      ]
    },
    {
      "cell_type": "code",
      "metadata": {
        "colab": {
          "base_uri": "https://localhost:8080/"
        },
        "id": "AFzsn595y0v6",
        "outputId": "6674efc3-c22a-43fa-9d39-17164fd2bca7"
      },
      "source": [
        "probability_model = tf.keras.Sequential([model, \n",
        "                                         tf.keras.layers.Softmax()])\n",
        "\n",
        "predictions = probability_model.predict(test_images)\n",
        "\n",
        "predictions[0]"
      ],
      "execution_count": null,
      "outputs": [
        {
          "output_type": "execute_result",
          "data": {
            "text/plain": [
              "array([2.2484369e-13, 1.4144041e-08, 0.0000000e+00, 4.4682158e-10,\n",
              "       0.0000000e+00, 5.3493261e-02, 4.0030699e-24, 9.5330775e-02,\n",
              "       6.4736398e-12, 8.5117596e-01], dtype=float32)"
            ]
          },
          "metadata": {},
          "execution_count": 15
        }
      ]
    },
    {
      "cell_type": "code",
      "metadata": {
        "colab": {
          "base_uri": "https://localhost:8080/"
        },
        "id": "VX_iiUffy0v6",
        "outputId": "5748630a-39c0-42da-e4c6-a7012928a329"
      },
      "source": [
        "print(np.argmax(predictions[0]))\n",
        "print(test_labels[0])\n"
      ],
      "execution_count": null,
      "outputs": [
        {
          "output_type": "stream",
          "name": "stdout",
          "text": [
            "9\n",
            "9\n"
          ]
        }
      ]
    },
    {
      "cell_type": "markdown",
      "metadata": {
        "id": "NeVjBTr1y0v6"
      },
      "source": [
        "### Verifying predictions"
      ]
    },
    {
      "cell_type": "code",
      "metadata": {
        "jupyter": {
          "source_hidden": true
        },
        "id": "8k16SqGxy0v-"
      },
      "source": [
        "def plot_image(i, predictions_array, true_label, img):\n",
        "  true_label, img = true_label[i], img[i]\n",
        "  plt.grid(False)\n",
        "  plt.xticks([])\n",
        "  plt.yticks([])\n",
        "\n",
        "  plt.imshow(img, cmap=plt.cm.binary)\n",
        "\n",
        "  predicted_label = np.argmax(predictions_array)\n",
        "  if predicted_label == true_label:\n",
        "    color = 'blue'\n",
        "  else:\n",
        "    color = 'red'\n",
        "\n",
        "  plt.xlabel(\"{} {:2.0f}% ({})\".format(class_names[predicted_label],\n",
        "                                100*np.max(predictions_array),\n",
        "                                class_names[true_label]),\n",
        "                                color=color)\n",
        "\n",
        "def plot_value_array(i, predictions_array, true_label):\n",
        "  true_label = true_label[i]\n",
        "  plt.grid(False)\n",
        "  plt.xticks(range(10))\n",
        "  plt.yticks([])\n",
        "  thisplot = plt.bar(range(10), predictions_array, color=\"#777777\")\n",
        "  plt.ylim([0, 1])\n",
        "  predicted_label = np.argmax(predictions_array)\n",
        "\n",
        "  thisplot[predicted_label].set_color('red')\n",
        "  thisplot[true_label].set_color('blue')"
      ],
      "execution_count": null,
      "outputs": []
    },
    {
      "cell_type": "code",
      "metadata": {
        "colab": {
          "base_uri": "https://localhost:8080/"
        },
        "id": "8zOY6CFKPUh5",
        "outputId": "74509099-7737-4a53-da24-cf6111119450"
      },
      "source": [
        "# The convolutional layer will need the input to have 4 dimensions\n",
        "# (info about how many channels the images have: in our case, just 1)\n",
        "# train_images=train_images.reshape(60000, 28, 28, 1)\n",
        "# train_images.shape\n",
        "\n",
        "test_images=test_images.reshape(10000, 28, 28)\n",
        "test_images.shape"
      ],
      "execution_count": null,
      "outputs": [
        {
          "output_type": "execute_result",
          "data": {
            "text/plain": [
              "(10000, 28, 28)"
            ]
          },
          "metadata": {},
          "execution_count": 19
        }
      ]
    },
    {
      "cell_type": "code",
      "metadata": {
        "jupyter": {
          "source_hidden": true
        },
        "colab": {
          "base_uri": "https://localhost:8080/",
          "height": 211
        },
        "id": "PKwttwy5y0wA",
        "outputId": "b64422d0-8fd1-4d3e-a07e-e4dc54a43968"
      },
      "source": [
        "i = 12\n",
        "plt.figure(figsize=(6,3))\n",
        "plt.subplot(1,2,1)\n",
        "plot_image(i, predictions[i], test_labels, test_images)\n",
        "plt.subplot(1,2,2)\n",
        "plot_value_array(i, predictions[i],  test_labels)\n",
        "plt.show()"
      ],
      "execution_count": null,
      "outputs": [
        {
          "output_type": "display_data",
          "data": {
            "image/png": "[encoded data removed]",
            "text/plain": [
              "<Figure size 432x216 with 2 Axes>"
            ]
          },
          "metadata": {
            "needs_background": "light"
          }
        }
      ]
    },
    {
      "cell_type": "code",
      "metadata": {
        "jupyter": {
          "source_hidden": true
        },
        "colab": {
          "base_uri": "https://localhost:8080/",
          "height": 644
        },
        "id": "F_IcAtMoy0wA",
        "outputId": "f9c88185-7cd8-45dd-c060-c8c3d10cba35"
      },
      "source": [
        "# Plot the first X test images, their predicted labels, and the true labels.\n",
        "# Color correct predictions in blue and incorrect predictions in red.\n",
        "num_rows = 5\n",
        "num_cols = 3\n",
        "num_images = num_rows*num_cols\n",
        "plt.figure(figsize=(2*2*num_cols, 2*num_rows))\n",
        "for i in range(num_images):\n",
        "  plt.subplot(num_rows, 2*num_cols, 2*i+1)\n",
        "  plot_image(i, predictions[i], test_labels, test_images)\n",
        "  plt.subplot(num_rows, 2*num_cols, 2*i+2)\n",
        "  plot_value_array(i, predictions[i], test_labels)\n",
        "plt.tight_layout()\n",
        "plt.show()"
      ],
      "execution_count": null,
      "outputs": [
        {
          "output_type": "display_data",
          "data": {
            "image/png": "[encoded data removed]",
            "text/plain": [
              "<Figure size 864x720 with 30 Axes>"
            ]
          },
          "metadata": {
            "needs_background": "light"
          }
        }
      ]
    },
    {
      "cell_type": "markdown",
      "metadata": {
        "id": "WaGMF40Ry0wC"
      },
      "source": [
        "## Adding Convolutions and Pooling"
      ]
    },
    {
      "cell_type": "code",
      "metadata": {
        "colab": {
          "base_uri": "https://localhost:8080/"
        },
        "id": "XKmVK3Bfy0wC",
        "outputId": "01c95cce-da7a-4e0d-d9bc-c6e8ecb5ce1a"
      },
      "source": [
        "cnn_model = tf.keras.models.Sequential([\n",
        "  tf.keras.layers.Conv2D(filters=64, \n",
        "                         kernel_size=(3, 3), \n",
        "                         activation='relu', \n",
        "                         input_shape=(28, 28, 1)),\n",
        "  tf.keras.layers.MaxPooling2D(pool_size=(2,2), \n",
        "                               strides=2),\n",
        "  tf.keras.layers.Flatten(),\n",
        "  tf.keras.layers.Dense(128, activation='relu'),\n",
        "  tf.keras.layers.Dense(10, activation='softmax')\n",
        "])\n",
        "cnn_model.compile(optimizer='adam', loss='sparse_categorical_crossentropy', metrics=['accuracy'])\n",
        "cnn_model.summary()"
      ],
      "execution_count": null,
      "outputs": [
        {
          "output_type": "stream",
          "name": "stdout",
          "text": [
            "Model: \"sequential_2\"\n",
            "_________________________________________________________________\n",
            "Layer (type)                 Output Shape              Param #   \n",
            "=================================================================\n",
            "conv2d (Conv2D)              (None, 26, 26, 64)        640       \n",
            "_________________________________________________________________\n",
            "max_pooling2d (MaxPooling2D) (None, 13, 13, 64)        0         \n",
            "_________________________________________________________________\n",
            "flatten_1 (Flatten)          (None, 10816)             0         \n",
            "_________________________________________________________________\n",
            "dense_2 (Dense)              (None, 128)               1384576   \n",
            "_________________________________________________________________\n",
            "dense_3 (Dense)              (None, 10)                1290      \n",
            "=================================================================\n",
            "Total params: 1,386,506\n",
            "Trainable params: 1,386,506\n",
            "Non-trainable params: 0\n",
            "_________________________________________________________________\n"
          ]
        }
      ]
    },
    {
      "cell_type": "code",
      "metadata": {
        "colab": {
          "base_uri": "https://localhost:8080/"
        },
        "id": "nqwTTk5Ty0wD",
        "outputId": "bbbc1069-feb8-45ba-d0ac-19e1a1f2e90b"
      },
      "source": [
        "cnn_model.fit(train_images, train_labels, epochs=5)\n"
      ],
      "execution_count": null,
      "outputs": [
        {
          "output_type": "stream",
          "name": "stdout",
          "text": [
            "Epoch 1/5\n",
            "1875/1875 [==============================] - 56s 30ms/step - loss: 0.8694 - accuracy: 0.8563\n",
            "Epoch 2/5\n",
            "1875/1875 [==============================] - 55s 29ms/step - loss: 0.2767 - accuracy: 0.9008\n",
            "Epoch 3/5\n",
            "1875/1875 [==============================] - 55s 29ms/step - loss: 0.2384 - accuracy: 0.9120\n",
            "Epoch 4/5\n",
            "1875/1875 [==============================] - 55s 29ms/step - loss: 0.2153 - accuracy: 0.9206\n",
            "Epoch 5/5\n",
            "1875/1875 [==============================] - 55s 29ms/step - loss: 0.1949 - accuracy: 0.9285\n"
          ]
        },
        {
          "output_type": "execute_result",
          "data": {
            "text/plain": [
              "<keras.callbacks.History at 0x7f88f4b62dd0>"
            ]
          },
          "metadata": {},
          "execution_count": 23
        }
      ]
    },
    {
      "cell_type": "code",
      "metadata": {
        "colab": {
          "base_uri": "https://localhost:8080/"
        },
        "id": "8dnPJh3aP3jA",
        "outputId": "330e898f-5fa4-41ac-91e0-7c5a158b3d1c"
      },
      "source": [
        "# The convolutional layer will need the input to have 4 dimensions\n",
        "# (info about how many channels the images have: in our case, just 1)\n",
        "# train_images=train_images.reshape(60000, 28, 28, 1)\n",
        "# train_images.shape\n",
        "# (how many pictures, pixels,pixels, depth(how many colors))\n",
        "test_images=test_images.reshape(10000, 28, 28, 1)\n",
        "test_images.shape"
      ],
      "execution_count": null,
      "outputs": [
        {
          "output_type": "execute_result",
          "data": {
            "text/plain": [
              "(10000, 28, 28, 1)"
            ]
          },
          "metadata": {},
          "execution_count": 25
        }
      ]
    },
    {
      "cell_type": "code",
      "metadata": {
        "colab": {
          "base_uri": "https://localhost:8080/"
        },
        "id": "6mvybtAoy0wD",
        "outputId": "4f6834fe-7a05-4d8c-f982-7ceefa129c4b"
      },
      "source": [
        "test_loss, test_acc = cnn_model.evaluate(test_images, test_labels, verbose=0)\n",
        "\n",
        "test_results[\"cnn_model\"] = test_acc*100\n",
        "\n",
        "test_results"
      ],
      "execution_count": null,
      "outputs": [
        {
          "output_type": "execute_result",
          "data": {
            "text/plain": [
              "{'cnn_model': 89.16000127792358, 'nn_model': 81.51999711990356}"
            ]
          },
          "metadata": {},
          "execution_count": 26
        }
      ]
    },
    {
      "cell_type": "code",
      "metadata": {
        "id": "_gTV8j3ey0wD"
      },
      "source": [
        "# Saving the model (the weights)\n",
        "cnn_model.save_weights('models/fashion_cnn_model')"
      ],
      "execution_count": null,
      "outputs": []
    },
    {
      "cell_type": "code",
      "metadata": {
        "colab": {
          "base_uri": "https://localhost:8080/"
        },
        "id": "tHtCVFZMy0wE",
        "outputId": "cd2a5380-e45d-4469-89b0-f464be468093"
      },
      "source": [
        "# Create a new model instance\n",
        "loaded_model = tf.keras.models.Sequential([\n",
        "  tf.keras.layers.Conv2D(filters=64, \n",
        "                         kernel_size=(3, 3), \n",
        "                         activation='relu', \n",
        "                         input_shape=(28, 28, 1)),\n",
        "  tf.keras.layers.MaxPooling2D(pool_size=(2,2), \n",
        "                               strides=2),\n",
        "  tf.keras.layers.Flatten(),\n",
        "  tf.keras.layers.Dense(128, activation='relu'),\n",
        "  tf.keras.layers.Dense(10, activation='softmax')\n",
        "])\n",
        "\n",
        "loaded_model.compile(optimizer='adam', \n",
        "                     loss='sparse_categorical_crossentropy', \n",
        "                     metrics=['accuracy'])\n",
        "\n",
        "# Restore the weights\n",
        "loaded_model.load_weights('models/fashion_cnn_model')\n",
        "\n",
        "# Evaluate the model\n",
        "loss, acc = loaded_model.evaluate(test_images, test_labels, verbose=2)"
      ],
      "execution_count": null,
      "outputs": [
        {
          "output_type": "stream",
          "name": "stdout",
          "text": [
            "313/313 - 2s - loss: 0.3352 - accuracy: 0.8916\n"
          ]
        }
      ]
    },
    {
      "cell_type": "markdown",
      "metadata": {
        "id": "fK7HDfOsy0wE"
      },
      "source": [
        "## Adding more convolutions and more pooling"
      ]
    },
    {
      "cell_type": "code",
      "metadata": {
        "colab": {
          "base_uri": "https://localhost:8080/"
        },
        "id": "3sFZkfMHy0wE",
        "outputId": "eaf03c30-aa0f-47e8-90d8-814bd7f9d40f"
      },
      "source": [
        "cnn_deep_model = tf.keras.models.Sequential([\n",
        "  tf.keras.layers.Conv2D(64, (3, 3), activation='relu', input_shape=(28, 28, 1)),\n",
        "  tf.keras.layers.MaxPooling2D(2, 2),\n",
        "  tf.keras.layers.Conv2D(64, (3, 3), activation='relu'),\n",
        "  tf.keras.layers.MaxPooling2D(2,2),\n",
        "  tf.keras.layers.Flatten(),\n",
        "  tf.keras.layers.Dense(128, activation='relu'),\n",
        "  tf.keras.layers.Dense(10, activation='softmax')\n",
        "])\n",
        "\n",
        "cnn_deep_model.compile(optimizer='adam', \n",
        "                       loss='sparse_categorical_crossentropy', \n",
        "                       metrics=['accuracy'])\n",
        "\n",
        "cnn_deep_model.summary()\n"
      ],
      "execution_count": null,
      "outputs": [
        {
          "output_type": "stream",
          "name": "stdout",
          "text": [
            "Model: \"sequential_4\"\n",
            "_________________________________________________________________\n",
            "Layer (type)                 Output Shape              Param #   \n",
            "=================================================================\n",
            "conv2d_2 (Conv2D)            (None, 26, 26, 64)        640       \n",
            "_________________________________________________________________\n",
            "max_pooling2d_2 (MaxPooling2 (None, 13, 13, 64)        0         \n",
            "_________________________________________________________________\n",
            "conv2d_3 (Conv2D)            (None, 11, 11, 64)        36928     \n",
            "_________________________________________________________________\n",
            "max_pooling2d_3 (MaxPooling2 (None, 5, 5, 64)          0         \n",
            "_________________________________________________________________\n",
            "flatten_3 (Flatten)          (None, 1600)              0         \n",
            "_________________________________________________________________\n",
            "dense_6 (Dense)              (None, 128)               204928    \n",
            "_________________________________________________________________\n",
            "dense_7 (Dense)              (None, 10)                1290      \n",
            "=================================================================\n",
            "Total params: 243,786\n",
            "Trainable params: 243,786\n",
            "Non-trainable params: 0\n",
            "_________________________________________________________________\n"
          ]
        }
      ]
    },
    {
      "cell_type": "code",
      "metadata": {
        "colab": {
          "base_uri": "https://localhost:8080/"
        },
        "id": "USxFVdfhy0wE",
        "outputId": "fbbe6cad-dff7-4a2b-8743-e55b6eaf1a2d"
      },
      "source": [
        "cnn_deep_model.fit(train_images, train_labels, epochs=5)\n",
        "test_loss, test_acc = cnn_deep_model.evaluate(test_images, test_labels, verbose=0)"
      ],
      "execution_count": null,
      "outputs": [
        {
          "output_type": "stream",
          "name": "stdout",
          "text": [
            "Epoch 1/5\n",
            "1875/1875 [==============================] - 77s 41ms/step - loss: 0.5340 - accuracy: 0.8357\n",
            "Epoch 2/5\n",
            "1875/1875 [==============================] - 77s 41ms/step - loss: 0.3229 - accuracy: 0.8809\n",
            "Epoch 3/5\n",
            "1875/1875 [==============================] - 77s 41ms/step - loss: 0.2887 - accuracy: 0.8925\n",
            "Epoch 4/5\n",
            "1875/1875 [==============================] - 76s 41ms/step - loss: 0.2659 - accuracy: 0.9007\n",
            "Epoch 5/5\n",
            "1875/1875 [==============================] - 76s 41ms/step - loss: 0.2426 - accuracy: 0.9082\n"
          ]
        }
      ]
    },
    {
      "cell_type": "code",
      "metadata": {
        "colab": {
          "base_uri": "https://localhost:8080/"
        },
        "id": "EeZ5wYiSy0wF",
        "outputId": "e4caf972-40bd-43d9-eae8-c2555a6d48b8"
      },
      "source": [
        "test_results[\"cnn_deep_model\"] = test_acc*100\n",
        "\n",
        "test_results"
      ],
      "execution_count": null,
      "outputs": [
        {
          "output_type": "execute_result",
          "data": {
            "text/plain": [
              "{'cnn_deep_model': 88.81000280380249,\n",
              " 'cnn_model': 89.16000127792358,\n",
              " 'nn_model': 81.51999711990356}"
            ]
          },
          "metadata": {},
          "execution_count": 31
        }
      ]
    },
    {
      "cell_type": "code",
      "metadata": {
        "id": "RV1YdYoly0wF"
      },
      "source": [
        "# Saving the model (the weights)\n",
        "cnn_deep_model.save_weights('models/fashion_cnn_deep_model')"
      ],
      "execution_count": null,
      "outputs": []
    },
    {
      "cell_type": "code",
      "metadata": {
        "colab": {
          "base_uri": "https://localhost:8080/"
        },
        "id": "YTc9As_Ly0wF",
        "outputId": "9ae62848-2810-4058-e1c0-0bb6ae59aff9"
      },
      "source": [
        "# Create a new model instance\n",
        "loaded_model = tf.keras.models.Sequential([\n",
        "  tf.keras.layers.Conv2D(64, (3, 3), activation='relu', input_shape=(28, 28, 1)),\n",
        "  tf.keras.layers.MaxPooling2D(2, 2),\n",
        "  tf.keras.layers.Conv2D(64, (3, 3), activation='relu'),\n",
        "  tf.keras.layers.MaxPooling2D(2,2),\n",
        "  tf.keras.layers.Flatten(),\n",
        "  tf.keras.layers.Dense(128, activation='relu'),\n",
        "  tf.keras.layers.Dense(10, activation='softmax')\n",
        "])\n",
        "\n",
        "loaded_model.compile(optimizer='adam', \n",
        "                     loss='sparse_categorical_crossentropy', \n",
        "                     metrics=['accuracy'])\n",
        "\n",
        "# Restore the weights\n",
        "loaded_model.load_weights('models/fashion_cnn_deep_model')\n",
        "\n",
        "# Evaluate the model\n",
        "loss, acc = loaded_model.evaluate(test_images, test_labels, verbose=2)"
      ],
      "execution_count": null,
      "outputs": [
        {
          "output_type": "stream",
          "name": "stdout",
          "text": [
            "313/313 - 3s - loss: 0.3186 - accuracy: 0.8881\n"
          ]
        }
      ]
    },
    {
      "cell_type": "code",
      "metadata": {
        "id": "qXvLgvr3y0wF"
      },
      "source": [
        ""
      ],
      "execution_count": null,
      "outputs": []
    }
  ]
}